{
 "cells": [
  {
   "cell_type": "code",
   "execution_count": 1,
   "metadata": {
    "id": "NTZxVZLk-aLN",
    "ExecuteTime": {
     "end_time": "2023-06-23T15:28:19.622234600Z",
     "start_time": "2023-06-23T15:28:16.577776600Z"
    }
   },
   "outputs": [
    {
     "name": "stderr",
     "output_type": "stream",
     "text": [
      "c:\\python\\python38\\lib\\site-packages\\tensorflow_addons\\utils\\tfa_eol_msg.py:23: UserWarning: \n",
      "\n",
      "TensorFlow Addons (TFA) has ended development and introduction of new features.\n",
      "TFA has entered a minimal maintenance and release mode until a planned end of life in May 2024.\n",
      "Please modify downstream libraries to take dependencies from other repositories in our TensorFlow community (e.g. Keras, Keras-CV, and Keras-NLP). \n",
      "\n",
      "For more information see: https://github.com/tensorflow/addons/issues/2807 \n",
      "\n",
      "  warnings.warn(\n"
     ]
    }
   ],
   "source": [
    "import random\n",
    "from datetime import datetime\n",
    "\n",
    "import numpy as np\n",
    "import tensorflow as tf\n",
    "import tensorflow_addons as tfa\n",
    "from tensorflow import keras\n",
    "\n",
    "# Setting seeds for reproducibility.\n",
    "SEED = 42\n",
    "tf.random.set_seed(SEED)\n",
    "np.random.seed(SEED)\n",
    "random.seed(SEED)"
   ]
  },
  {
   "cell_type": "code",
   "execution_count": 2,
   "metadata": {
    "id": "oNM1SbqG-iHN",
    "ExecuteTime": {
     "end_time": "2023-06-23T15:28:19.637910400Z",
     "start_time": "2023-06-23T15:28:19.622234600Z"
    }
   },
   "outputs": [],
   "source": [
    "from config import *"
   ]
  },
  {
   "cell_type": "markdown",
   "metadata": {
    "id": "r2qI0r9N_TeW"
   },
   "source": [
    "# Dataset\n",
    "\n",
    "Using **CIFAR10** for our implementation."
   ]
  },
  {
   "cell_type": "code",
   "execution_count": 3,
   "metadata": {
    "colab": {
     "base_uri": "https://localhost:8080/"
    },
    "id": "lMOYr_h1_QY6",
    "outputId": "e0201dc6-c933-4cf8-c54f-7fde8e3d27de",
    "ExecuteTime": {
     "end_time": "2023-06-23T15:28:20.157388200Z",
     "start_time": "2023-06-23T15:28:19.637910400Z"
    }
   },
   "outputs": [
    {
     "name": "stdout",
     "output_type": "stream",
     "text": [
      "Training samples: 40000\n",
      "Validation samples: 10000\n",
      "Testing samples: 10000\n"
     ]
    }
   ],
   "source": [
    "(x_train, y_train), (x_test, y_test) = keras.datasets.cifar10.load_data()\n",
    "(x_train, y_train), (x_val, y_val) = (\n",
    "    (x_train[:40000], y_train[:40000]),\n",
    "    (x_train[40000:], y_train[40000:]),\n",
    ")\n",
    "print(f\"Training samples: {len(x_train)}\")\n",
    "print(f\"Validation samples: {len(x_val)}\")\n",
    "print(f\"Testing samples: {len(x_test)}\")"
   ]
  },
  {
   "cell_type": "code",
   "execution_count": 4,
   "metadata": {
    "id": "sH3ihMqv_Zvn",
    "ExecuteTime": {
     "end_time": "2023-06-23T15:28:21.520431700Z",
     "start_time": "2023-06-23T15:28:20.733749400Z"
    }
   },
   "outputs": [],
   "source": [
    "train_ds = tf.data.Dataset.from_tensor_slices((x_train))\n",
    "train_ds = train_ds.shuffle(BUFFER_SIZE).batch(BATCH_SIZE).prefetch(AUTO)\n",
    "\n",
    "val_ds = tf.data.Dataset.from_tensor_slices((x_val))\n",
    "val_ds = val_ds.batch(BATCH_SIZE).prefetch(AUTO)\n",
    "\n",
    "test_ds = tf.data.Dataset.from_tensor_slices((x_test))\n",
    "test_ds = test_ds.batch(BATCH_SIZE).prefetch(AUTO)"
   ]
  },
  {
   "cell_type": "markdown",
   "metadata": {
    "id": "I3jSERWD_dxh"
   },
   "source": [
    "# Data Augmentation"
   ]
  },
  {
   "cell_type": "code",
   "execution_count": 5,
   "metadata": {
    "id": "6E12LNFc_dm5",
    "ExecuteTime": {
     "end_time": "2023-06-23T15:28:21.536057Z",
     "start_time": "2023-06-23T15:28:21.520431700Z"
    }
   },
   "outputs": [],
   "source": [
    "from util import *"
   ]
  },
  {
   "cell_type": "markdown",
   "metadata": {
    "id": "dynDm4z6AK-q"
   },
   "source": [
    "# Create Patches\n",
    "\n",
    "This layer creates patches from input images. The layer also consists of two utility methods:\n",
    "- `show_patched_image`: This utility function takes a batch of images and its corresponding patches, randomly choses a pair and plots it. This is useful for a sanity check.\n",
    "- `reconstruct_from_patch`: This utility funciton takes the patches of a **single** image, and reconstructs it back into the original image. This is useful for the training monitor callback defined later."
   ]
  },
  {
   "cell_type": "code",
   "execution_count": 6,
   "metadata": {
    "id": "dAiN1D-5AMGg",
    "ExecuteTime": {
     "end_time": "2023-06-23T15:28:21.891985600Z",
     "start_time": "2023-06-23T15:28:21.567298400Z"
    }
   },
   "outputs": [],
   "source": [
    "from Patches import *"
   ]
  },
  {
   "cell_type": "code",
   "execution_count": 7,
   "metadata": {
    "colab": {
     "base_uri": "https://localhost:8080/",
     "height": 496
    },
    "id": "ptI3I2aMB_rS",
    "outputId": "895d0714-f9ba-4235-ca8a-b3c21ec7091c",
    "ExecuteTime": {
     "end_time": "2023-06-23T15:28:29.592073400Z",
     "start_time": "2023-06-23T15:28:21.891985600Z"
    }
   },
   "outputs": [
    {
     "name": "stdout",
     "output_type": "stream",
     "text": [
      "WARNING:tensorflow:Using a while_loop for converting RngReadAndSkip cause there is no registered converter for this op.\n",
      "WARNING:tensorflow:Using a while_loop for converting Bitcast cause there is no registered converter for this op.\n",
      "WARNING:tensorflow:Using a while_loop for converting Bitcast cause there is no registered converter for this op.\n",
      "WARNING:tensorflow:Using a while_loop for converting StatelessRandomUniformIntV2 cause there is no registered converter for this op.\n",
      "WARNING:tensorflow:Using a while_loop for converting RngReadAndSkip cause there is no registered converter for this op.\n",
      "WARNING:tensorflow:Using a while_loop for converting Bitcast cause there is no registered converter for this op.\n",
      "WARNING:tensorflow:Using a while_loop for converting Bitcast cause there is no registered converter for this op.\n",
      "WARNING:tensorflow:Using a while_loop for converting StatelessRandomUniformIntV2 cause there is no registered converter for this op.\n",
      "Index selected: 197.\n"
     ]
    },
    {
     "data": {
      "text/plain": "<Figure size 400x400 with 1 Axes>",
      "image/png": "[encoded data removed]"
     },
     "metadata": {},
     "output_type": "display_data"
    },
    {
     "data": {
      "text/plain": "<Figure size 400x400 with 64 Axes>",
      "image/png": "[encoded data removed]"
     },
     "metadata": {},
     "output_type": "display_data"
    }
   ],
   "source": [
    "# Get a batch of images.\n",
    "image_batch = next(iter(train_ds))\n",
    "\n",
    "# Augment the images.\n",
    "augmentation_model = get_train_augmentation_model()\n",
    "augmeneted_images = augmentation_model(image_batch)\n",
    "\n",
    "# Define the patch layer.\n",
    "patch_layer = PatchesPre()\n",
    "\n",
    "# Get the patches from the batched images.\n",
    "patches = patch_layer(images=augmeneted_images)\n",
    "\n",
    "# Now pass the images and the corresponding patches\n",
    "# to the `show_patched_image` method.\n",
    "random_index = patch_layer.show_patched_image(images=augmeneted_images, patches=patches)"
   ]
  },
  {
   "cell_type": "code",
   "execution_count": 8,
   "metadata": {
    "colab": {
     "base_uri": "https://localhost:8080/",
     "height": 248
    },
    "id": "qv0Va_68CPmF",
    "outputId": "5dd6d051-2740-452b-f57c-2131b7b8a3b1",
    "ExecuteTime": {
     "end_time": "2023-06-23T15:28:29.639268100Z",
     "start_time": "2023-06-23T15:28:29.592073400Z"
    }
   },
   "outputs": [
    {
     "data": {
      "text/plain": "<Figure size 640x480 with 1 Axes>",
      "image/png": "[encoded data removed]"
     },
     "metadata": {},
     "output_type": "display_data"
    }
   ],
   "source": [
    "# Chose the same chose image and try reconstructing the patches\n",
    "# into the original image.\n",
    "image = patch_layer.reconstruct_from_patch(patches[random_index])\n",
    "plt.imshow(image)\n",
    "plt.axis(\"off\")\n",
    "plt.show()"
   ]
  },
  {
   "cell_type": "markdown",
   "metadata": {
    "id": "8GYmyvRZCbL4"
   },
   "source": [
    "# Patch Encoder\n",
    "\n",
    "This layer deals with encoding the pathces and adding the positional embedding too. The layer holds two utility functions:\n",
    "- `get_random_indices`: This function provides randomly sampled mask and unmask indices.\n",
    "- `show_masked_image`: A utility function that plots a random masked image."
   ]
  },
  {
   "cell_type": "code",
   "execution_count": 9,
   "metadata": {
    "id": "PvEhNFDcFCLF",
    "ExecuteTime": {
     "end_time": "2023-06-23T15:28:30.180928300Z",
     "start_time": "2023-06-23T15:28:29.639268100Z"
    }
   },
   "outputs": [],
   "source": [
    "# Create the patch encoder layer.\n",
    "patch_encoder = PatchEncoderPre()\n",
    "\n",
    "# Get the embeddings and positions.\n",
    "(\n",
    "    unmasked_embeddings,\n",
    "    masked_embeddings,\n",
    "    unmasked_positions,\n",
    "    mask_indices,\n",
    "    unmask_indices,\n",
    ") = patch_encoder(patches=patches)"
   ]
  },
  {
   "cell_type": "code",
   "execution_count": 10,
   "metadata": {
    "colab": {
     "base_uri": "https://localhost:8080/",
     "height": 301
    },
    "id": "UlxangzdFwMJ",
    "outputId": "72caf44d-71d8-4e95-b66d-f4a7a75b0c90",
    "ExecuteTime": {
     "end_time": "2023-06-23T15:28:30.400270Z",
     "start_time": "2023-06-23T15:28:30.180928300Z"
    }
   },
   "outputs": [
    {
     "data": {
      "text/plain": "<Figure size 1000x1000 with 2 Axes>",
      "image/png": "[encoded data removed]"
     },
     "metadata": {},
     "output_type": "display_data"
    }
   ],
   "source": [
    "# Show a maksed patch image.\n",
    "new_patch, random_index = patch_encoder.show_masked_image(patches, unmask_indices)\n",
    "\n",
    "plt.figure(figsize=(10, 10))\n",
    "plt.subplot(1, 2, 1)\n",
    "img = patch_layer.reconstruct_from_patch(new_patch)\n",
    "plt.imshow(keras.utils.array_to_img(img))\n",
    "plt.axis(\"off\")\n",
    "plt.title(\"Masked\")\n",
    "plt.subplot(1, 2, 2)\n",
    "img = augmeneted_images[random_index]\n",
    "plt.imshow(keras.utils.array_to_img(img))\n",
    "plt.axis(\"off\")\n",
    "plt.title(\"Original\")\n",
    "plt.show()"
   ]
  },
  {
   "cell_type": "markdown",
   "metadata": {
    "id": "A88s55FzF9Rz"
   },
   "source": [
    "# MLP - Encoder - Decoder - MaskedAutoEncoder Model"
   ]
  },
  {
   "cell_type": "code",
   "execution_count": 11,
   "metadata": {
    "id": "91-B5HvSF52o",
    "ExecuteTime": {
     "end_time": "2023-06-23T15:28:30.431928300Z",
     "start_time": "2023-06-23T15:28:30.400270Z"
    }
   },
   "outputs": [],
   "source": [
    "from model import *"
   ]
  },
  {
   "cell_type": "markdown",
   "metadata": {
    "id": "oCOI8_9BX_6g"
   },
   "source": [
    "# Model init"
   ]
  },
  {
   "cell_type": "code",
   "execution_count": 12,
   "metadata": {
    "id": "2LqZWL1eHS8l",
    "ExecuteTime": {
     "end_time": "2023-06-23T15:28:30.842099400Z",
     "start_time": "2023-06-23T15:28:30.431928300Z"
    }
   },
   "outputs": [],
   "source": [
    "keras.backend.clear_session()\n",
    "\n",
    "train_augmentation_model = get_train_augmentation_model()\n",
    "test_augmentation_model = get_test_augmentation_model()\n",
    "patch_layer = PatchesPre()\n",
    "patch_encoder = PatchEncoderPre()\n",
    "encoder = create_encoder()\n",
    "decoder = create_decoder()\n",
    "\n",
    "mae_model = MaskedAutoencoder(\n",
    "    train_augmentation_model=train_augmentation_model,\n",
    "    test_augmentation_model=test_augmentation_model,\n",
    "    patch_layer=patch_layer,\n",
    "    patch_encoder=patch_encoder,\n",
    "    encoder=encoder,\n",
    "    decoder=decoder,\n",
    ")"
   ]
  },
  {
   "cell_type": "markdown",
   "metadata": {
    "id": "TCDOA_kdX_6h"
   },
   "source": [
    "## Training callbacks"
   ]
  },
  {
   "cell_type": "code",
   "execution_count": 13,
   "metadata": {
    "id": "QjuUx4OYHaQx",
    "ExecuteTime": {
     "end_time": "2023-06-23T15:28:30.857718600Z",
     "start_time": "2023-06-23T15:28:30.842099400Z"
    }
   },
   "outputs": [],
   "source": [
    "from TrainMonitor import *\n",
    "# Taking a batch of test inputs to measure model's progress.\n"
   ]
  },
  {
   "cell_type": "code",
   "execution_count": 14,
   "metadata": {
    "id": "s4PEJxppX_6h",
    "ExecuteTime": {
     "end_time": "2023-06-23T15:28:30.873338600Z",
     "start_time": "2023-06-23T15:28:30.857718600Z"
    }
   },
   "outputs": [],
   "source": [
    "from WarmUpCosine import *"
   ]
  },
  {
   "cell_type": "code",
   "execution_count": 15,
   "metadata": {
    "colab": {
     "base_uri": "https://localhost:8080/",
     "height": 283
    },
    "id": "iTn6VcaBX_6h",
    "outputId": "c0df7a58-763f-4a1f-bbf3-1e1f2e64784f",
    "ExecuteTime": {
     "end_time": "2023-06-23T15:28:48.745428600Z",
     "start_time": "2023-06-23T15:28:30.873338600Z"
    }
   },
   "outputs": [
    {
     "data": {
      "text/plain": "<Figure size 640x480 with 1 Axes>",
      "image/png": "[encoded data removed]"
     },
     "metadata": {},
     "output_type": "display_data"
    }
   ],
   "source": [
    "total_steps = int((len(x_train) / BATCH_SIZE) * EPOCHS)\n",
    "warmup_steps = int(total_steps * 0.15)\n",
    "scheduled_lrs = WarmUpCosine(\n",
    "    learning_rate_base=LEARNING_RATE,\n",
    "    total_steps=total_steps,\n",
    "    warmup_learning_rate=0.0,\n",
    "    warmup_steps=warmup_steps,\n",
    ")\n",
    "\n",
    "lrs = [scheduled_lrs(step) for step in range(total_steps)]\n",
    "plt.plot(lrs)\n",
    "plt.xlabel(\"Step\", fontsize=14)\n",
    "plt.ylabel(\"LR\", fontsize=14)\n",
    "plt.show()"
   ]
  },
  {
   "cell_type": "code",
   "execution_count": 16,
   "metadata": {
    "id": "l_heFaYxJaOp",
    "ExecuteTime": {
     "end_time": "2023-06-23T15:28:48.761458700Z",
     "start_time": "2023-06-23T15:28:48.745428600Z"
    }
   },
   "outputs": [],
   "source": [
    "timestamp = datetime.utcnow().strftime(\"%y%m%d-%H%M%S\")\n",
    "\n",
    "train_callbacks = [\n",
    "    keras.callbacks.TensorBoard(log_dir=f\"mae_logs_{timestamp}\"),\n",
    "    TrainMonitor(test_ds, epoch_interval=5),\n",
    "]"
   ]
  },
  {
   "cell_type": "markdown",
   "metadata": {
    "id": "-dUZ1RYqX_6h"
   },
   "source": [
    "# Compilation and training"
   ]
  },
  {
   "cell_type": "code",
   "execution_count": 17,
   "metadata": {
    "id": "gtgH-OxyJczw",
    "ExecuteTime": {
     "end_time": "2023-06-23T15:28:48.823947200Z",
     "start_time": "2023-06-23T15:28:48.761458700Z"
    }
   },
   "outputs": [],
   "source": [
    "optimizer = tfa.optimizers.AdamW(learning_rate=scheduled_lrs, weight_decay=WEIGHT_DECAY)\n",
    "\n",
    "mae_model.compile(\n",
    "    optimizer=optimizer, loss=keras.losses.MeanSquaredError(), metrics=[\"mae\"]\n",
    ")"
   ]
  },
  {
   "cell_type": "code",
   "execution_count": null,
   "metadata": {
    "colab": {
     "base_uri": "https://localhost:8080/",
     "height": 1000
    },
    "id": "ZUAXzpDoJiXG",
    "outputId": "2015187b-0bfb-445e-a687-018a9284a649"
   },
   "outputs": [],
   "source": [
    "history = mae_model.fit(\n",
    "    train_ds, epochs=EPOCHS, validation_data=val_ds, callbacks=train_callbacks,\n",
    ")"
   ]
  },
  {
   "cell_type": "code",
   "execution_count": 19,
   "metadata": {
    "colab": {
     "base_uri": "https://localhost:8080/"
    },
    "id": "S0aVUm63Lj-L",
    "outputId": "cbe80727-6cc3-4db3-ec5d-cf01469f38d0",
    "ExecuteTime": {
     "end_time": "2023-06-23T15:43:38.911276300Z",
     "start_time": "2023-06-23T15:43:38.143715700Z"
    }
   },
   "outputs": [
    {
     "name": "stdout",
     "output_type": "stream",
     "text": [
      "40/40 [==============================] - 1s 19ms/step - loss: 0.0146 - mae: 0.0856\n",
      "Loss: 0.01\n",
      "MAE: 0.09\n"
     ]
    }
   ],
   "source": [
    "loss, mae = mae_model.evaluate(test_ds)\n",
    "print(f\"Loss: {loss:.2f}\")\n",
    "print(f\"MAE: {mae:.2f}\")"
   ]
  },
  {
   "cell_type": "markdown",
   "metadata": {
    "id": "u8mJ1QkHLoPd"
   },
   "source": [
    "# Downstrean Task"
   ]
  },
  {
   "cell_type": "code",
   "execution_count": 20,
   "metadata": {
    "colab": {
     "base_uri": "https://localhost:8080/"
    },
    "id": "kXnO5jNALndF",
    "outputId": "8b6c45a7-10bf-4e58-f866-f691b5352b12",
    "ExecuteTime": {
     "end_time": "2023-06-23T15:51:18.334235100Z",
     "start_time": "2023-06-23T15:51:18.058606600Z"
    }
   },
   "outputs": [
    {
     "name": "stdout",
     "output_type": "stream",
     "text": [
      "Model: \"linear_probe_model\"\n",
      "_________________________________________________________________\n",
      " Layer (type)                Output Shape              Param #   \n",
      "=================================================================\n",
      " patches_pre (PatchesPre)    (None, 64, 108)           0         \n",
      "                                                                 \n",
      " patch_encoder_pre (PatchEnc  (None, 64, 128)          22252     \n",
      " oderPre)                                                        \n",
      "                                                                 \n",
      " mae_encoder (Functional)    (None, None, 128)         990976    \n",
      "                                                                 \n",
      " batch_normalization (BatchN  (None, 64, 128)          512       \n",
      " ormalization)                                                   \n",
      "                                                                 \n",
      " global_average_pooling1d (G  (None, 128)              0         \n",
      " lobalAveragePooling1D)                                          \n",
      "                                                                 \n",
      " dense_10 (Dense)            (None, 10)                1290      \n",
      "                                                                 \n",
      "=================================================================\n",
      "Total params: 1,015,030\n",
      "Trainable params: 1,290\n",
      "Non-trainable params: 1,013,740\n",
      "_________________________________________________________________\n"
     ]
    }
   ],
   "source": [
    "# Extract the augmentation layers.\n",
    "train_augmentation_model = mae_model.train_augmentation_model\n",
    "test_augmentation_model = mae_model.test_augmentation_model\n",
    "\n",
    "# Extract the patchers.\n",
    "patch_layer = mae_model.patch_layer\n",
    "patch_encoder = mae_model.patch_encoder\n",
    "patch_encoder.downstream = True  # Swtich the downstream flag to True.\n",
    "\n",
    "# Extract the encoder.\n",
    "encoder = mae_model.encoder\n",
    "\n",
    "# Pack as a model.\n",
    "downstream_model = keras.Sequential(\n",
    "    [\n",
    "        layers.Input((IMAGE_SIZE, IMAGE_SIZE, 3)),\n",
    "        patch_layer,\n",
    "        patch_encoder,\n",
    "        encoder,\n",
    "        layers.BatchNormalization(),  # Refer to A.1 (Linear probing)\n",
    "        layers.GlobalAveragePooling1D(),\n",
    "        layers.Dense(NUM_CLASSES, activation=\"softmax\"),\n",
    "    ],\n",
    "    name=\"linear_probe_model\",\n",
    ")\n",
    "\n",
    "# Only the final classification layer of the `downstream_model` should be trainable.\n",
    "for layer in downstream_model.layers[:-1]:\n",
    "    layer.trainable = False\n",
    "\n",
    "downstream_model.summary()"
   ]
  },
  {
   "cell_type": "code",
   "execution_count": 21,
   "metadata": {
    "id": "oPaNGdfvLtyR",
    "ExecuteTime": {
     "end_time": "2023-06-23T15:51:20.801430200Z",
     "start_time": "2023-06-23T15:51:20.046556400Z"
    }
   },
   "outputs": [],
   "source": [
    "train_ds = prepare_data(x_train, y_train)\n",
    "val_ds = prepare_data(x_train, y_train, is_train=False)\n",
    "test_ds = prepare_data(x_test, y_test, is_train=False)"
   ]
  },
  {
   "cell_type": "code",
   "execution_count": 22,
   "metadata": {
    "colab": {
     "base_uri": "https://localhost:8080/"
    },
    "id": "xdeuZ98oLvis",
    "outputId": "c9f7b566-47e9-4afa-a86d-728df915cd99",
    "ExecuteTime": {
     "start_time": "2023-06-23T15:51:25.400469300Z"
    }
   },
   "outputs": [
    {
     "name": "stdout",
     "output_type": "stream",
     "text": [
      "Epoch 1/50\n",
      "157/157 [==============================] - 12s 57ms/step - loss: 2.2739 - accuracy: 0.1490 - val_loss: 2.0692 - val_accuracy: 0.2747\n",
      "Epoch 2/50\n",
      "157/157 [==============================] - 8s 52ms/step - loss: 1.9503 - accuracy: 0.3308 - val_loss: 1.8251 - val_accuracy: 0.3740\n",
      "Epoch 3/50\n",
      "157/157 [==============================] - 9s 55ms/step - loss: 1.7950 - accuracy: 0.3842 - val_loss: 1.7266 - val_accuracy: 0.4032\n",
      "Epoch 4/50\n",
      "157/157 [==============================] - 9s 55ms/step - loss: 1.7251 - accuracy: 0.4067 - val_loss: 1.6772 - val_accuracy: 0.4161\n",
      "Epoch 5/50\n",
      "157/157 [==============================] - 8s 54ms/step - loss: 1.6870 - accuracy: 0.4142 - val_loss: 1.6450 - val_accuracy: 0.4252\n",
      "Epoch 6/50\n",
      "157/157 [==============================] - 8s 53ms/step - loss: 1.6598 - accuracy: 0.4205 - val_loss: 1.6225 - val_accuracy: 0.4315\n",
      "Epoch 7/50\n",
      "157/157 [==============================] - 8s 53ms/step - loss: 1.6422 - accuracy: 0.4266 - val_loss: 1.6056 - val_accuracy: 0.4354\n",
      "Epoch 8/50\n",
      "157/157 [==============================] - 8s 53ms/step - loss: 1.6287 - accuracy: 0.4285 - val_loss: 1.5925 - val_accuracy: 0.4383\n",
      "Epoch 9/50\n",
      "157/157 [==============================] - 8s 53ms/step - loss: 1.6173 - accuracy: 0.4282 - val_loss: 1.5813 - val_accuracy: 0.4424\n",
      "Epoch 10/50\n",
      " 27/157 [====>.........................] - ETA: 3s - loss: 1.5941 - accuracy: 0.4381"
     ]
    },
    {
     "name": "stderr",
     "output_type": "stream",
     "text": [
      "\n",
      "KeyboardInterrupt\n",
      "\n"
     ]
    }
   ],
   "source": [
    "linear_probe_epochs = 50\n",
    "linear_prob_lr = 0.1\n",
    "warm_epoch_percentage = 0.1\n",
    "steps = int((len(x_train) // BATCH_SIZE) * linear_probe_epochs)\n",
    "\n",
    "warmup_steps = int(steps * warm_epoch_percentage)\n",
    "scheduled_lrs = WarmUpCosine(\n",
    "    learning_rate_base=linear_prob_lr,\n",
    "    total_steps=steps,\n",
    "    warmup_learning_rate=0.0,\n",
    "    warmup_steps=warmup_steps,\n",
    ")\n",
    "\n",
    "optimizer = keras.optimizers.SGD(learning_rate=scheduled_lrs, momentum=0.9)\n",
    "downstream_model.compile(\n",
    "    optimizer=optimizer, loss=\"sparse_categorical_crossentropy\", metrics=[\"accuracy\"]\n",
    ")\n",
    "downstream_model.fit(train_ds, validation_data=val_ds, epochs=linear_probe_epochs)\n",
    "\n",
    "loss, accuracy = downstream_model.evaluate(test_ds)\n",
    "accuracy = round(accuracy * 100, 2)\n",
    "print(f\"Accuracy on the test set: {accuracy}%.\")"
   ]
  },
  {
   "cell_type": "code",
   "execution_count": null,
   "metadata": {
    "colab": {
     "base_uri": "https://localhost:8080/"
    },
    "id": "0o8DHVfAMrSL",
    "outputId": "c98b307d-c002-4507-ac21-0ca777cf3f06"
   },
   "outputs": [],
   "source": [
    "downstream_model.save(f\"linear_probe_{timestamp}\", include_optimizer=False)"
   ]
  },
  {
   "cell_type": "code",
   "execution_count": null,
   "outputs": [],
   "source": [],
   "metadata": {
    "collapsed": false
   }
  }
 ],
 "metadata": {
  "accelerator": "GPU",
  "colab": {
   "collapsed_sections": [],
   "machine_shape": "hm",
   "name": "mae-pretraining.ipynb",
   "provenance": []
  },
  "environment": {
   "kernel": "python3",
   "name": "tf2-gpu.2-7.m84",
   "type": "gcloud",
   "uri": "gcr.io/deeplearning-platform-release/tf2-gpu.2-7:m84"
  },
  "kernelspec": {
   "display_name": "Python 3",
   "language": "python",
   "name": "python3"
  },
  "language_info": {
   "codemirror_mode": {
    "name": "ipython",
    "version": 3
   },
   "file_extension": ".py",
   "mimetype": "text/x-python",
   "name": "python",
   "nbconvert_exporter": "python",
   "pygments_lexer": "ipython3",
   "version": "3.9.6"
  }
 },
 "nbformat": 4,
 "nbformat_minor": 1
}
