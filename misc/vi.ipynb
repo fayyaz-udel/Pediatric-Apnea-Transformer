{
 "cells": [
  {
   "cell_type": "code",
   "execution_count": 1,
   "outputs": [
    {
     "name": "stdout",
     "output_type": "stream",
     "text": [
      "Extracting EDF parameters from D:\\nchsdb\\sleep_data\\46_11305.edf...\n",
      "EDF file detected\n",
      "Setting channel info structure...\n",
      "Creating raw.info structure...\n",
      "Reading 0 ... 9515007  =      0.000 ... 37167.996 secs...\n",
      "Using matplotlib as 2D backend.\n"
     ]
    },
    {
     "data": {
      "text/plain": "<MNEBrowseFigure size 3117x1248 with 4 Axes>"
     },
     "execution_count": 1,
     "metadata": {},
     "output_type": "execute_result"
    }
   ],
   "source": [
    "\n",
    "import mne\n",
    "\n",
    "import matplotlib\n",
    "matplotlib.use('TkAgg')\n",
    "\n",
    "raw = mne.io.edf.edf.RawEDF(input_fname=r\"D:\\nchsdb\\sleep_data\\46_11305.edf\", preload=True,\n",
    "                                verbose=True)\n",
    "\n",
    "channels = [\n",
    "#    'ECG EKG2-EKG',\n",
    "#    'Resp PTAF',\n",
    "    'SpO2',\n",
    "]\n",
    "\n",
    "raw = raw.pick_channels(channels)\n",
    "\n",
    "raw.crop(tmin=4800, tmax=4805).load_data()\n",
    "\n",
    "raw.plot()"
   ],
   "metadata": {
    "collapsed": false,
    "pycharm": {
     "name": "#%%\n"
    }
   }
  },
  {
   "cell_type": "code",
   "execution_count": null,
   "outputs": [],
   "source": [],
   "metadata": {
    "collapsed": false,
    "pycharm": {
     "name": "#%%\n"
    }
   }
  }
 ],
 "metadata": {
  "kernelspec": {
   "display_name": "Python 3",
   "language": "python",
   "name": "python3"
  },
  "language_info": {
   "codemirror_mode": {
    "name": "ipython",
    "version": 2
   },
   "file_extension": ".py",
   "mimetype": "text/x-python",
   "name": "python",
   "nbconvert_exporter": "python",
   "pygments_lexer": "ipython2",
   "version": "2.7.6"
  }
 },
 "nbformat": 4,
 "nbformat_minor": 0
}