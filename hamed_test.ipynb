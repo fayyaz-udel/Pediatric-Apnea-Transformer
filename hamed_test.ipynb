{
 "cells": [
  {
   "cell_type": "code",
   "execution_count": 1,
   "metadata": {
    "collapsed": true,
    "pycharm": {
     "name": "#%%\n"
    }
   },
   "outputs": [],
   "source": [
    "import pandas as pd\n",
    "\n",
    "df = pd.read_csv(\"D:\\\\ccshs\\\\datasets\\\\ccshs-trec-dataset-0.7.0.csv\")\n",
    "\n"
   ]
  },
  {
   "cell_type": "code",
   "execution_count": 2,
   "outputs": [
    {
     "data": {
      "text/plain": "    nsrrid  ethnicity  male    age  race   htcm   wtkg  bp1sys1  bp1dias1  \\\n0  1800001          2     0  17.21     1  168.5   54.2    100.0      46.0   \n1  1800005          2     1  17.28     1  168.4   83.2    132.0      84.0   \n2  1800007          2     1  17.54     2  169.8  103.5    128.0      50.0   \n3  1800013          2     1  17.76     1  175.6   65.3    102.0      70.0   \n4  1800014          2     0  17.13     2  160.2   86.2    130.0      78.0   \n\n   bp1hr1  ...  ahi_o0h3  ahi_o0h4  ahi_o0h3a  ahi_o0h4a  ahi_c0h3  ahi_c0h4  \\\n0    62.0  ...  0.122449  0.000000   0.122449   0.000000  0.244898  0.122449   \n1    68.0  ...  0.239521  0.119760   0.239521   0.239521  0.239521  0.119760   \n2    80.0  ...  1.692308  1.538462   1.692308   1.538462  0.461538  0.307692   \n3    64.0  ...  0.113636  0.113636   0.113636   0.113636  0.113636  0.113636   \n4    66.0  ...  1.901408  1.161972   2.535211   2.007042  1.901408  1.161972   \n\n   ahi_c0h3a  ahi_c0h4a  race3  visit  \n0   0.244898   0.122449      1      3  \n1   0.239521   0.239521      1      3  \n2   0.461538   0.307692      2      3  \n3   0.113636   0.113636      1      3  \n4   2.535211   2.007042      2      3  \n\n[5 rows x 240 columns]",
      "text/html": "<div>\n<style scoped>\n    .dataframe tbody tr th:only-of-type {\n        vertical-align: middle;\n    }\n\n    .dataframe tbody tr th {\n        vertical-align: top;\n    }\n\n    .dataframe thead th {\n        text-align: right;\n    }\n</style>\n<table border=\"1\" class=\"dataframe\">\n  <thead>\n    <tr style=\"text-align: right;\">\n      <th></th>\n      <th>nsrrid</th>\n      <th>ethnicity</th>\n      <th>male</th>\n      <th>age</th>\n      <th>race</th>\n      <th>htcm</th>\n      <th>wtkg</th>\n      <th>bp1sys1</th>\n      <th>bp1dias1</th>\n      <th>bp1hr1</th>\n      <th>...</th>\n      <th>ahi_o0h3</th>\n      <th>ahi_o0h4</th>\n      <th>ahi_o0h3a</th>\n      <th>ahi_o0h4a</th>\n      <th>ahi_c0h3</th>\n      <th>ahi_c0h4</th>\n      <th>ahi_c0h3a</th>\n      <th>ahi_c0h4a</th>\n      <th>race3</th>\n      <th>visit</th>\n    </tr>\n  </thead>\n  <tbody>\n    <tr>\n      <th>0</th>\n      <td>1800001</td>\n      <td>2</td>\n      <td>0</td>\n      <td>17.21</td>\n      <td>1</td>\n      <td>168.5</td>\n      <td>54.2</td>\n      <td>100.0</td>\n      <td>46.0</td>\n      <td>62.0</td>\n      <td>...</td>\n      <td>0.122449</td>\n      <td>0.000000</td>\n      <td>0.122449</td>\n      <td>0.000000</td>\n      <td>0.244898</td>\n      <td>0.122449</td>\n      <td>0.244898</td>\n      <td>0.122449</td>\n      <td>1</td>\n      <td>3</td>\n    </tr>\n    <tr>\n      <th>1</th>\n      <td>1800005</td>\n      <td>2</td>\n      <td>1</td>\n      <td>17.28</td>\n      <td>1</td>\n      <td>168.4</td>\n      <td>83.2</td>\n      <td>132.0</td>\n      <td>84.0</td>\n      <td>68.0</td>\n      <td>...</td>\n      <td>0.239521</td>\n      <td>0.119760</td>\n      <td>0.239521</td>\n      <td>0.239521</td>\n      <td>0.239521</td>\n      <td>0.119760</td>\n      <td>0.239521</td>\n      <td>0.239521</td>\n      <td>1</td>\n      <td>3</td>\n    </tr>\n    <tr>\n      <th>2</th>\n      <td>1800007</td>\n      <td>2</td>\n      <td>1</td>\n      <td>17.54</td>\n      <td>2</td>\n      <td>169.8</td>\n      <td>103.5</td>\n      <td>128.0</td>\n      <td>50.0</td>\n      <td>80.0</td>\n      <td>...</td>\n      <td>1.692308</td>\n      <td>1.538462</td>\n      <td>1.692308</td>\n      <td>1.538462</td>\n      <td>0.461538</td>\n      <td>0.307692</td>\n      <td>0.461538</td>\n      <td>0.307692</td>\n      <td>2</td>\n      <td>3</td>\n    </tr>\n    <tr>\n      <th>3</th>\n      <td>1800013</td>\n      <td>2</td>\n      <td>1</td>\n      <td>17.76</td>\n      <td>1</td>\n      <td>175.6</td>\n      <td>65.3</td>\n      <td>102.0</td>\n      <td>70.0</td>\n      <td>64.0</td>\n      <td>...</td>\n      <td>0.113636</td>\n      <td>0.113636</td>\n      <td>0.113636</td>\n      <td>0.113636</td>\n      <td>0.113636</td>\n      <td>0.113636</td>\n      <td>0.113636</td>\n      <td>0.113636</td>\n      <td>1</td>\n      <td>3</td>\n    </tr>\n    <tr>\n      <th>4</th>\n      <td>1800014</td>\n      <td>2</td>\n      <td>0</td>\n      <td>17.13</td>\n      <td>2</td>\n      <td>160.2</td>\n      <td>86.2</td>\n      <td>130.0</td>\n      <td>78.0</td>\n      <td>66.0</td>\n      <td>...</td>\n      <td>1.901408</td>\n      <td>1.161972</td>\n      <td>2.535211</td>\n      <td>2.007042</td>\n      <td>1.901408</td>\n      <td>1.161972</td>\n      <td>2.535211</td>\n      <td>2.007042</td>\n      <td>2</td>\n      <td>3</td>\n    </tr>\n  </tbody>\n</table>\n<p>5 rows × 240 columns</p>\n</div>"
     },
     "execution_count": 2,
     "metadata": {},
     "output_type": "execute_result"
    }
   ],
   "source": [
    "df.head()"
   ],
   "metadata": {
    "collapsed": false,
    "pycharm": {
     "name": "#%%\n"
    }
   }
  },
  {
   "cell_type": "code",
   "execution_count": 8,
   "outputs": [
    {
     "data": {
      "text/plain": "17.721779497098627"
     },
     "execution_count": 8,
     "metadata": {},
     "output_type": "execute_result"
    }
   ],
   "source": [
    "df[\"age\"].mean()"
   ],
   "metadata": {
    "collapsed": false,
    "pycharm": {
     "name": "#%%\n"
    }
   }
  },
  {
   "cell_type": "code",
   "execution_count": null,
   "outputs": [],
   "source": [],
   "metadata": {
    "collapsed": false,
    "pycharm": {
     "name": "#%%\n"
    }
   }
  }
 ],
 "metadata": {
  "kernelspec": {
   "display_name": "Python 3",
   "language": "python",
   "name": "python3"
  },
  "language_info": {
   "codemirror_mode": {
    "name": "ipython",
    "version": 2
   },
   "file_extension": ".py",
   "mimetype": "text/x-python",
   "name": "python",
   "nbconvert_exporter": "python",
   "pygments_lexer": "ipython2",
   "version": "2.7.6"
  }
 },
 "nbformat": 4,
 "nbformat_minor": 0
}